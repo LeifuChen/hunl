{
 "cells": [
  {
   "cell_type": "markdown",
   "metadata": {},
   "source": [
    "# This notebook contains my code from Will Tipton's \"Solving Poker\" video series"
   ]
  },
  {
   "cell_type": "code",
   "execution_count": 2,
   "metadata": {
    "collapsed": false
   },
   "outputs": [
    {
     "name": "stdout",
     "output_type": "stream",
     "text": [
      "Populating the interactive namespace from numpy and matplotlib\n"
     ]
    }
   ],
   "source": [
    "import pokereval\n",
    "import os\n",
    "%pylab inline"
   ]
  },
  {
   "cell_type": "code",
   "execution_count": 113,
   "metadata": {
    "collapsed": true
   },
   "outputs": [],
   "source": [
    "pe = pokereval.PokerEval()"
   ]
  },
  {
   "cell_type": "code",
   "execution_count": 114,
   "metadata": {
    "collapsed": true
   },
   "outputs": [],
   "source": [
    "# Can access documentation in iPython with ?\n",
    "pokereval.PokerEval?"
   ]
  },
  {
   "cell_type": "code",
   "execution_count": 135,
   "metadata": {
    "collapsed": true
   },
   "outputs": [],
   "source": [
    "# Define some useful constants\n",
    "numCards = 52\n",
    "numRanks = 13\n",
    "numSuits = 4\n",
    "numHands = 1326 # nchoosek(52,2)\n",
    "numVillainHand = 1225 #nchoosek(50,2)\n",
    "\n",
    "# Make some lists\n",
    "\n",
    "suits = ['h', 'd', 'c', 's']\n",
    "ranks = ['A', 'K', 'Q','J', 'T', '9', '8', '7', '6', '5', '4', '3', '2']\n",
    "cards = ['2h', '3h', '4h', '5h', '6h', '7h', '8h', '9h', 'Th', 'Jh', 'Qh', 'Kh', 'Ah', \n",
    "         '2d', '3d', '4d', '5d', '6d', '7d', '8d', '9d', 'Td', 'Jd', 'Qd', 'Kd', 'Ad',\n",
    "         '2c', '3c', '4c', '5c', '6c', '7c', '8c', '9c', 'Tc', 'Jc', 'Qc', 'Kc', 'Ac', \n",
    "         '2s', '3s', '4s', '5s', '6s', '7s', '8s', '9s', 'Ts', 'Js', 'Qs', 'Ks', 'As']"
   ]
  },
  {
   "cell_type": "code",
   "execution_count": 116,
   "metadata": {
    "collapsed": false
   },
   "outputs": [],
   "source": [
    "# We can describe hands or the board as lists of strings, where '__' represents an unknown card\n",
    "handAsStrings = ['Ah', 'Jd']\n",
    "boardAsStrings = ['8d', '6s', '3h', 'Kd', '__']"
   ]
  },
  {
   "cell_type": "code",
   "execution_count": 117,
   "metadata": {
    "collapsed": false
   },
   "outputs": [],
   "source": [
    "# We can also give each card a number and describe hands or boards as lists of numbers\n",
    "# Convention: always work with the numerical representation of hands and boards\n",
    "#    Convert to strings at the last minute whenever it's necessary, and we'll indicate the stringness\n",
    "#    in the variable name.  Whenever we want to manually input hand or board, we'll need to convert\n",
    "# Notice that cards run from 0 to 51, while empty card gets 255\n",
    "hand = pe.string2card(handAsStrings)\n",
    "board = pe.string2card(boardAsStrings)"
   ]
  },
  {
   "cell_type": "code",
   "execution_count": 118,
   "metadata": {
    "collapsed": true
   },
   "outputs": [],
   "source": [
    "#  Let's write our own function!  It's good practice to document the inputs and outputs of functions.\n",
    "#  It will be useful to have a function that takes as input two lists of cards, and tells us\n",
    "#  if the two lists overlap at all.  To do this, look at every pair of cards and check if equal\n",
    "#  Input:\n",
    "#      cards1, cards2 - lists of cards represented as numbers\n",
    "#  Output:\n",
    "#    True if the lists conflict and False otherwise\n",
    "#  NB: Indentation matters.\n",
    "#  Note:  We don't return true if we find a match for the empty card (255).\n",
    "\n",
    "def conflicts(cards1, cards2):\n",
    "    for i in cards1:\n",
    "        for j in cards2:\n",
    "            if i == j and i < numCards:\n",
    "                return True\n",
    "        return False"
   ]
  },
  {
   "cell_type": "code",
   "execution_count": 119,
   "metadata": {
    "collapsed": false
   },
   "outputs": [
    {
     "data": {
      "text/plain": [
       "False"
      ]
     },
     "execution_count": 119,
     "metadata": {},
     "output_type": "execute_result"
    }
   ],
   "source": [
    "#  Note that the conflicts function is _globally_ accessible\n",
    "conflicts(handAsStrings, boardAsStrings)"
   ]
  },
  {
   "cell_type": "code",
   "execution_count": 121,
   "metadata": {
    "collapsed": false,
    "scrolled": true
   },
   "outputs": [],
   "source": [
    "villainHand = pe.string2card(['As', '4s'])\n",
    "peresult = pe.poker_eval(game='holdem', pockets=[ hand, villainHand], board = board)"
   ]
  },
  {
   "cell_type": "code",
   "execution_count": 122,
   "metadata": {
    "collapsed": false
   },
   "outputs": [
    {
     "data": {
      "text/plain": [
       "41"
      ]
     },
     "execution_count": 122,
     "metadata": {},
     "output_type": "execute_result"
    }
   ],
   "source": [
    "peresult['eval'][0]['winhi']"
   ]
  },
  {
   "cell_type": "code",
   "execution_count": 123,
   "metadata": {
    "collapsed": false
   },
   "outputs": [],
   "source": [
    "# Compute an equity using pe.poker_eval and make a function to take care of the details\n",
    "# Inputs:\n",
    "#     hands and villainHand - lists of cards in numerical format describing two hands\n",
    "#     board - list of cards describing the board\n",
    "# Output: all-in equity of hand vs villainHand on board\n",
    "#         -1 if any of hand, villainHand, and board conflict\n",
    "\n",
    "def getEquityVsHand(hand, villainHand, board):\n",
    "    if conflicts(hand,villainHand) or conflicts(hand,board) or conflicts(board,villainHand):\n",
    "        return -1\n",
    "    peresult = pe.poker_eval(game='holdem', pockets=[hand, villainHand], board = board)\n",
    "    numWins = peresult['eval'][0]['winhi']\n",
    "    numTies = peresult['eval'][0]['tiehi']\n",
    "    numRunouts = peresult['info'][0]\n",
    "    return (numWins + numTies/2.0) / numRunouts"
   ]
  },
  {
   "cell_type": "code",
   "execution_count": 124,
   "metadata": {
    "collapsed": false
   },
   "outputs": [
    {
     "data": {
      "text/plain": [
       "0.13636363636363635"
      ]
     },
     "execution_count": 124,
     "metadata": {},
     "output_type": "execute_result"
    }
   ],
   "source": [
    "hand1 = pe.string2card(['Ah', 'Jd'])\n",
    "hand2 = pe.string2card(['4c', '3s'])\n",
    "getEquityVsHand(hand1, hand2, board)"
   ]
  },
  {
   "cell_type": "code",
   "execution_count": 141,
   "metadata": {
    "collapsed": false
   },
   "outputs": [],
   "source": [
    "# To avoid expensive equity calculations, we will pre-compute all equities for any\n",
    "# board we are interested in.\n",
    "# Essentially, we'll make a table that contains all hand-vs-hand matchups, and we'll computer\n",
    "# the equity of every matchup once.  And then if we need it in the future, we can just look it up.\n",
    "\n",
    "# EquityArray class organizes hand vs hand equities for a board\n",
    "class EquityArray:\n",
    "    # Constructor\n",
    "    # Input:\n",
    "    #    b - list of numbers representing a board\n",
    "    def __init__(self, b): \n",
    "        self.board = b\n",
    "        self.eArray = numpy.zeros ((numCards,numCards,numCards,numCards))\n",
    "        if os.path.isfile(self.getFilename()):\n",
    "            self.eArray = numpy.load(self.getFilename())\n",
    "        else:\n",
    "            self.makeArray()\n",
    "                \n",
    "    def makeArray(self): #can you cut down on hand combos here through only considering isomorphic combos?\n",
    "        for i in range(numCards):\n",
    "            for j in range (numCards):\n",
    "                for a in range(numCards):\n",
    "                    for b in range(numCards):\n",
    "                        hand = [i, j]\n",
    "                        villainHand = [a, b]\n",
    "                        self.eArray[i][j][a][b] = getEquityVsHand(hand, villainHand, self.board)\n",
    "        numpy.save(self.getFilename(), self.eArray)\n",
    "                                \n",
    "    # Output: filename built from self.board\n",
    "    # For example, if pe.card2string(self.board) == ['Ah', 'Jd', '2c', '__','__']\n",
    "    # then return 'AhJd2c.ea.npy'.\n",
    "    def getFilename(self):\n",
    "        boardStr = ''\n",
    "        boardAsStrings = pe.card2string(self.board)\n",
    "        for i in boardAsStrings:\n",
    "            if i != '__':\n",
    "                boardStr = boardStr + i\n",
    "            if boardStr == '': #this is the case when we have the preflop board\n",
    "                boardStr = 'preflop'\n",
    "        boardStr = boardStr + '.ea.npy'\n",
    "        return boardStr"
   ]
  },
  {
   "cell_type": "code",
   "execution_count": null,
   "metadata": {
    "collapsed": false
   },
   "outputs": [],
   "source": [
    "pe.card2string(board)"
   ]
  },
  {
   "cell_type": "code",
   "execution_count": null,
   "metadata": {
    "collapsed": false
   },
   "outputs": [],
   "source": [
    "myEArray = EquityArray(board)"
   ]
  },
  {
   "cell_type": "code",
   "execution_count": null,
   "metadata": {
    "collapsed": false
   },
   "outputs": [],
   "source": [
    "myEArray.getFilename()"
   ]
  },
  {
   "cell_type": "code",
   "execution_count": null,
   "metadata": {
    "collapsed": true
   },
   "outputs": [],
   "source": [
    "for i in range(numCards):\n",
    "    for j in range (numCards):\n",
    "        for a in range(numCards):\n",
    "            print(pe.card2string([i,j,a]))"
   ]
  },
  {
   "cell_type": "code",
   "execution_count": null,
   "metadata": {
    "collapsed": false
   },
   "outputs": [],
   "source": [
    "#print(numpy.zeros((4))) \n",
    "#print(numpy.zeros((4,4)))\n",
    "#print(numpy.zeros((4,4,4)))\n",
    "bop = numpy.zeros((4,4,4,4))"
   ]
  },
  {
   "cell_type": "code",
   "execution_count": null,
   "metadata": {
    "collapsed": false
   },
   "outputs": [],
   "source": [
    "bop[2][2][2][3]"
   ]
  },
  {
   "cell_type": "code",
   "execution_count": null,
   "metadata": {
    "collapsed": false
   },
   "outputs": [],
   "source": [
    "def getEquityvsHandFast(hand, villainHand, ea):\n",
    "    return ea.eArray()"
   ]
  },
  {
   "cell_type": "code",
   "execution_count": null,
   "metadata": {
    "collapsed": true
   },
   "outputs": [],
   "source": [
    "def getEquityVsHandFast(hand, villainHand, ea):\n",
    "    return ea.eArray[hand[0]][hand[1]][villainHand[0]][villainHand[1]]"
   ]
  },
  {
   "cell_type": "code",
   "execution_count": null,
   "metadata": {
    "collapsed": false
   },
   "outputs": [],
   "source": [
    "# getEquityVsHand(hand, villainHand, board)\n",
    "# getEquityVsHandFast(hand, villainHand, myEArray)"
   ]
  },
  {
   "cell_type": "code",
   "execution_count": null,
   "metadata": {
    "collapsed": true
   },
   "outputs": [],
   "source": [
    "# Inputs:\n",
    "#  handArray - numpy array of the same sort that is internal to the Range class\n",
    "#  cardslist - list of cards in numerical format\n",
    "# Outputs: N/A\n",
    "# Side-effect: modifies handArray to set the frequency of all hands that conflict with cards in cardslist to 0\n",
    "\n",
    "def zeroHandsWithConflicts(handArray, cardslist):\n",
    "    for c in cardslist:\n",
    "        if c < numCards:\n",
    "            handArray[c,:] = 0\n",
    "            handArray[:,c] = 0"
   ]
  },
  {
   "cell_type": "code",
   "execution_count": null,
   "metadata": {
    "collapsed": true
   },
   "outputs": [],
   "source": [
    "import scipy.misc"
   ]
  },
  {
   "cell_type": "code",
   "execution_count": null,
   "metadata": {
    "collapsed": false
   },
   "outputs": [],
   "source": [
    "# Range class describes a poker hand range\n",
    "# The data:\n",
    "# a numpy array of sides numCards by numCards, r, of numbers between 0 and 1, each of which describes the fraction\n",
    "# of a particular hand in the range\n",
    "# Note: there is some redundancy in our representation.  For example, (3h, 2h) - (2h, 3h)\n",
    "# We are only going to access elements of r, r[i][j] such that j > 1\n",
    "\n",
    "class Range:\n",
    "    def __init__(self, initFrac = None):\n",
    "        self.r = numpy.zeros((numCards, numCards))\n",
    "        if initFrac != None:\n",
    "            setAllFracs(initFrac)\n",
    "    \n",
    "    # Input: a hand represented by a list of two numbers\n",
    "    # Output: the fraction of the hand contained in the range\n",
    "    # Side-effects: N/A\n",
    "    def getFrac(self, hand):\n",
    "        card1, card2 = hand\n",
    "        if card1 > card2:\n",
    "            card1,card2 = card2,card1\n",
    "        return self.r[card1][card2]\n",
    "    \n",
    "    # Input: N/A\n",
    "    # Output: total number of hand combinations contained in the range\n",
    "    # Side-effects: N/A\n",
    "    def getNumHands(self):\n",
    "        return sum(self.r)\n",
    "    \n",
    "    # Input: cardslist - list in numerical format\n",
    "    # Output: the number of hand combos in the range that do not conflict with cardslist\n",
    "    # Side-effects: N/A\n",
    "    def getNumHandsWithoutConflicts(self, cardslist):\n",
    "        temp = numpy.copy(self.r)\n",
    "        zeroHandsWithConflicts(temp, cardlist)\n",
    "        return sum(temp)\n",
    "    \n",
    "    # Inputs:\n",
    "    #   hand - list of numbers describing a hand\n",
    "    #   f - fraction\n",
    "    # Output: N/A\n",
    "    # Side-effects: sets the fraction of hand in the range to f\n",
    "    def setFrac(self, hand, f):\n",
    "        card1, card2 = hand\n",
    "        if card1 > card2:\n",
    "            card1,card2 = card2,card1\n",
    "        self.r[card1][card2] = f\n",
    "    \n",
    "    # Input: num - a fraction\n",
    "    # Output: N/A\n",
    "    # Side-effects: set the fraction of all hand combos to num\n",
    "    def setAllFracs(self, num):\n",
    "            for i in range(numCards):\n",
    "                for j in range(i+1, numCards):\n",
    "                    self.r[i][j] = num\n",
    "    \n",
    "    # Input: num - a fraction\n",
    "    # Output: N/A\n",
    "    # Side-effect: scale the fraction of every hand combo by num\n",
    "    # NB: We haven't always performed great input validation.  For example, here it is up to\n",
    "    #   the user of the function to ensure that the scaling number does not change any of the fractions\n",
    "    #   to be less than 0 or greater than 1.\n",
    "    def scaleFracs(self,num):\n",
    "        self.r = self.r * num        \n",
    "\n",
    "    # Input:\n",
    "    #   - rangeString - string containing comma-separated terms of the form XX, XY, XYs, XYo, XaYb\n",
    "    #   - value - a fraction\n",
    "    # Output: N/A\n",
    "    # Side-effects: set hand combos specified by the range string to values\n",
    "    \n",
    "    def setRangeString(self, rangeString, value):\n",
    "        handStrs = rangeString.replace(' ','').split(',')\n",
    "        for hand in handStrs:\n",
    "            if len(hand) == 2:\n",
    "                rank1 = hand[0]\n",
    "                rank2 = hand[1]\n",
    "                for i in suits:\n",
    "                    for j in suits:\n",
    "                        if rank1 == rank2 and i == j : # avoid stuff like 2c2c\n",
    "                            continue\n",
    "                        self.setFrac(pe.string2card([rank1+i, rank2+j]), value)\n",
    "            elif len(hand) == 3:\n",
    "                rank1 = hand[0]\n",
    "                rank2 = hand[1]\n",
    "                if rank1 == rank2:\n",
    "                    print(\"ERROR! Cannot have suited pocket pair\")\n",
    "                if hand[2] == 's': # suited hands\n",
    "                    for s in suits:\n",
    "                        self.setFrac(pe.string2card([rank1+s, rank2+s]), value)\n",
    "                else: # unsuited hands\n",
    "                    for i in range(numSuits):\n",
    "                        for j in range(i+1, numSuits):\n",
    "                            self.setFrac(pe.string2card([rank1+suits[i], rank2+suits[j]]), value)\n",
    "            elif len(hand) == 4:\n",
    "                card1 = hand[0:2]\n",
    "                card2 = hand[2:4]\n",
    "                self.setFrac(pe.string2card([card2, card2]), value)\n",
    "            else:\n",
    "                print(\"ERROR! Hand input needs to be 2 to 4 characters\")\n",
    "    \n",
    "    # Input: \n",
    "    #  - rank1 - a string specifying a rank ('2', '3', 'T', 'A')\n",
    "    #  - rank2 - similar\n",
    "    #  - suited - a boolean (True, False) indicating suitedness\n",
    "    # Output: fraction of specified ambiguous hand contained in the rank\n",
    "    # Side-effects: N/A\n",
    "    #\n",
    "    # Ambiguous hands are, e.g., AKo (12 combos)\n",
    "    #                            AKs (4 combos)\n",
    "    #                            33 (6 combos)\n",
    "    # So for example, if we call getAmbigFrac('A', 'K', True), we're interested\n",
    "    # in AKs, and if the range contains 100% of AKhh and AKss, but none of AKcc\n",
    "    # or AKdd, the result should be 0.5 (not 2).\n",
    "    # Note: if we're interested in pocket pairs then rank1 == rank2 and suited == False\n",
    "    def getAmbigFrac(self, rank1, rank2, suited):\n",
    "        nHand = 0.0\n",
    "        nFrac = 0.0\n",
    "        \n",
    "        # look at every specific hand combo corresponding to rank1, rank 2 and suited\n",
    "        for i in suits:\n",
    "            for j in suits:\n",
    "                card1 = rank1 + i\n",
    "                card2 = rank2 + j\n",
    "                if (suited and i != j) or (not suited and i == j):\n",
    "                    continue\n",
    "                if (card1 == card2):\n",
    "                    continue\n",
    "                nHand += 1 # short for nHand = nHand + 1\n",
    "                nFrac += self.getFrac(pe.string2card([card1,card2]))\n",
    "        return nFrac / nHand\n",
    "    \n",
    "    def _repr_svg_(self): # iPython special function - represent as scalable vector graphic\n",
    "        result = '<svg xmlns=\"http://www.w3.org/2000/svg\" version=\"1.1\" width=\"260\" height=\"260\">'\n",
    "        for i in range(numRanks):\n",
    "            for j in range(numRanks):\n",
    "                frac = self.getAmbigFrac(ranks[i], ranks[j], i > j)\n",
    "                hexcolor = '#%02x%02x%02x' % (255*(1-frac), 255, 255*(1-frac))\n",
    "                result += '<rect x=\"' + str(i*20) + '\" y=\"' + str(j*20) + '\" width=\"20\" height=\"20\" fill=\"' + hexcolor+'\"></rect>'\n",
    "                result += '<text x=' + str(i*20)+' y='+str((j+1)*20) + ' font-size=12>' + ranks[i]\\\n",
    "                          + ranks[j] + '</text>'\n",
    "        result += '</svg>'    \n",
    "        return result\n",
    "    \n",
    "    # Input:\n",
    "    #   villainRange - Range object\n",
    "    #   board - list of 5 numbers describing a board\n",
    "    # Output: list of tuples of the form (hand, equity)\n",
    "    #                       where a hand is a list of integers and equity is\n",
    "    #                       equity vs villainRange on board.  This output list\n",
    "    #                       will be sorted by equity (highest first).\n",
    "    # Side-effects: N/A\n",
    "    def getHandsSortedAndEquities(self, villainRange, board):\n",
    "        ea = EquityArray(board)\n",
    "        result = []\n",
    "        for i in range(numCards):\n",
    "            for j in range(i+1, numCards):\n",
    "                hand = [i,j]\n",
    "                if not conflicts(board,hand):\n",
    "                    result.append((hand, getEquityVsRange(hand, villainRange, ea)))\n",
    "        result.sort(key = lambda x: x[1], reverse = True)\n",
    "        return result\n",
    "                \n",
    "    \n",
    "    # Input:\n",
    "    #  fraction - a number describing fraction of all hands\n",
    "    #  board - a list of numbers representing a board\n",
    "    #  Output: N/A\n",
    "    #  Side-effects: set fraction of (approx.) the top fraction of hands (as ranked by equity vs ATC) on board to 1, and the rest to 0\n",
    "    def setToTop(self, fraction,board):\n",
    "        rangeAllHands = Range()\n",
    "        rangeAllHands.setAllFracs(1.0) # ATC range\n",
    "        handsSorted = self.getHandsSortedAndEquities(rangeAllHands, board)\n",
    "        \n",
    "        numCardsLeft = numCards\n",
    "        for c in board:\n",
    "            if c < numCards:\n",
    "                numCardsLeft -= 1\n",
    "        self.setAllFracs(0)\n",
    "        for i in range(int(fraction * scipy.misc.comb(numCardsLeft, 2))):\n",
    "            self.setFrac(handsSorted[i][0],1.0)\n",
    "            \n",
    "        \n",
    "#   setHands(self, strHands):\n",
    "#       self.lstHands = strHands.split(',')\n",
    "#   def containsHand(self, checkHand):\n",
    "#       self.hand = checkHand\n",
    "#       for i in self.lstHands:\n",
    "#           if self.hand == i:\n",
    "#               print('Yes')\n",
    "#   def getNumHands(self):\n",
    "#       numHands = 0\n",
    "#       for i in self.lstHands:\n",
    "#          numHands = numHands + 1\n",
    "#       print numHands\n",
    "#   def display(self):\n",
    "#       for i in self.lstHands:\n",
    "#           print i"
   ]
  },
  {
   "cell_type": "code",
   "execution_count": null,
   "metadata": {
    "collapsed": true
   },
   "outputs": [],
   "source": [
    "# Input:\n",
    "#   hand - list of numbers\n",
    "#   r - Range object\n",
    "#   ea - Equity Array object\n",
    "\n",
    "def getEquityVsRange(hand, r, ea):\n",
    "    herocard1,herocard2 = hand\n",
    "    eqs = ea.eArray[herocard1, herocard2, :, :] # Equity of all hands vs hero hands.  ea is an Equity Array of numCards x numCards x numCards x numCards.\n",
    "    # r.r                 # numCards x numCards\n",
    "    villRange = np.copy(r.r)\n",
    "    zeroHandsWithConflicts(villRange, hand + ea.board)\n",
    "    return sum(np.multiply(eqs, villRange)) / sum(villRange) # np.multiply is pairwise multiplication, not matrix\n",
    "\n",
    "    "
   ]
  },
  {
   "cell_type": "code",
   "execution_count": null,
   "metadata": {
    "collapsed": false,
    "scrolled": true
   },
   "outputs": [],
   "source": [
    "print(pe.card2string(hand))\n",
    "vill = Range()\n",
    "vill.setAllFracs(1.0)\n",
    "getEquityVsRange(hand, vill, EquityArray(board))"
   ]
  },
  {
   "cell_type": "code",
   "execution_count": null,
   "metadata": {
    "collapsed": false
   },
   "outputs": [],
   "source": [
    "frac = 0.5\n",
    "print('#%02x%02x%02x' % (255*(1-frac), 255, 255*(1-frac))) # %02 means take a number and represent it as a hexadecimal"
   ]
  },
  {
   "cell_type": "code",
   "execution_count": null,
   "metadata": {
    "collapsed": false
   },
   "outputs": [],
   "source": [
    "pe.card2string(board)"
   ]
  },
  {
   "cell_type": "code",
   "execution_count": null,
   "metadata": {
    "collapsed": false
   },
   "outputs": [],
   "source": [
    "bob = Range()\n",
    "bob.setRangeString(\"AK,44,Q4\",1.0)\n",
    "display(bob)"
   ]
  },
  {
   "cell_type": "code",
   "execution_count": null,
   "metadata": {
    "collapsed": false
   },
   "outputs": [],
   "source": [
    "hero = Range()\n",
    "hero.setAllFracs(1.0)\n",
    "hero.setFrac(pe.string2card(['Ah', 'Jh']),0.0)\n",
    "hero.setFrac(pe.string2card(['Ac', 'Jc']),0.0)\n",
    "hero.setFrac(pe.string2card(['As', 'Js']),0.0)\n",
    "hero.setToTop(0.20,board)\n",
    "display(hero)"
   ]
  },
  {
   "cell_type": "code",
   "execution_count": null,
   "metadata": {
    "collapsed": false
   },
   "outputs": [],
   "source": [
    "# checkHand = \"AJo\"\n",
    "# strHands = \"AJo, KQs, 33\"\n",
    "# Range = myRange()\n",
    "# Range.setHands(strHands)\n",
    "# Range.containsHand(checkHand)\n",
    "# Range.getNumHands()"
   ]
  },
  {
   "cell_type": "code",
   "execution_count": 126,
   "metadata": {
    "collapsed": false
   },
   "outputs": [
    {
     "ename": "TypeError",
     "evalue": "'list' object is not callable",
     "output_type": "error",
     "traceback": [
      "\u001b[0;31m---------------------------------------------------------------------------\u001b[0m",
      "\u001b[0;31mTypeError\u001b[0m                                 Traceback (most recent call last)",
      "\u001b[0;32m<ipython-input-126-b257a107f941>\u001b[0m in \u001b[0;36m<module>\u001b[0;34m()\u001b[0m\n\u001b[0;32m----> 1\u001b[0;31m \u001b[0ma\u001b[0m \u001b[1;33m=\u001b[0m \u001b[0mnumpy\u001b[0m\u001b[1;33m.\u001b[0m\u001b[0mzeros\u001b[0m\u001b[1;33m(\u001b[0m\u001b[1;36m52\u001b[0m\u001b[1;33m)\u001b[0m\u001b[1;33m\u001b[0m\u001b[0m\n\u001b[0m\u001b[1;32m      2\u001b[0m \u001b[0mc\u001b[0m \u001b[1;33m=\u001b[0m \u001b[0mint\u001b[0m\u001b[1;33m(\u001b[0m\u001b[1;36m0\u001b[0m\u001b[1;33m)\u001b[0m\u001b[1;33m\u001b[0m\u001b[0m\n\u001b[1;32m      3\u001b[0m \u001b[1;32mfor\u001b[0m \u001b[0mi\u001b[0m \u001b[1;32min\u001b[0m \u001b[0ma\u001b[0m\u001b[1;33m[\u001b[0m\u001b[0mi\u001b[0m\u001b[1;33m]\u001b[0m\u001b[1;33m:\u001b[0m\u001b[1;33m\u001b[0m\u001b[0m\n\u001b[1;32m      4\u001b[0m     \u001b[0mc\u001b[0m \u001b[1;33m+=\u001b[0m \u001b[1;36m1\u001b[0m\u001b[1;33m\u001b[0m\u001b[0m\n\u001b[1;32m      5\u001b[0m     \u001b[0ma\u001b[0m\u001b[1;33m[\u001b[0m\u001b[0mi\u001b[0m\u001b[1;33m]\u001b[0m \u001b[1;33m=\u001b[0m \u001b[0mc\u001b[0m\u001b[1;33m\u001b[0m\u001b[0m\n",
      "\u001b[0;31mTypeError\u001b[0m: 'list' object is not callable"
     ]
    }
   ],
   "source": [
    "a = numpy.zeros(52)\n",
    "c = int(0)\n",
    "for i in a[i]:\n",
    "    c += 1\n",
    "    a[i] = c\n",
    "print a\n",
    "type(a)"
   ]
  },
  {
   "cell_type": "code",
   "execution_count": null,
   "metadata": {
    "collapsed": true
   },
   "outputs": [],
   "source": []
  }
 ],
 "metadata": {
  "anaconda-cloud": {},
  "kernelspec": {
   "display_name": "Python [conda root]",
   "language": "python",
   "name": "conda-root-py"
  },
  "language_info": {
   "codemirror_mode": {
    "name": "ipython",
    "version": 2
   },
   "file_extension": ".py",
   "mimetype": "text/x-python",
   "name": "python",
   "nbconvert_exporter": "python",
   "pygments_lexer": "ipython2",
   "version": "2.7.12"
  }
 },
 "nbformat": 4,
 "nbformat_minor": 1
}
